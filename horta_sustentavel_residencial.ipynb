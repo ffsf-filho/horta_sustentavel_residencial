{
  "nbformat": 4,
  "nbformat_minor": 0,
  "metadata": {
    "colab": {
      "provenance": [],
      "authorship_tag": "ABX9TyN/LjgGDkg+PojwSR5YSWlI",
      "include_colab_link": true
    },
    "kernelspec": {
      "name": "python3",
      "display_name": "Python 3"
    },
    "language_info": {
      "name": "python"
    }
  },
  "cells": [
    {
      "cell_type": "markdown",
      "metadata": {
        "id": "view-in-github",
        "colab_type": "text"
      },
      "source": [
        "<a href=\"https://colab.research.google.com/github/ffsf-filho/horta_sustentavel_residencial/blob/main/horta_sustentavel_residencial.ipynb\" target=\"_parent\"><img src=\"https://colab.research.google.com/assets/colab-badge.svg\" alt=\"Open In Colab\"/></a>"
      ]
    },
    {
      "cell_type": "code",
      "execution_count": 1,
      "metadata": {
        "id": "vCYR-ybk3U5S",
        "colab": {
          "base_uri": "https://localhost:8080/"
        },
        "outputId": "ab820f53-8a39-403f-85dd-2365ecf7fbb1"
      },
      "outputs": [
        {
          "output_type": "stream",
          "name": "stdout",
          "text": [
            "Requirement already satisfied: gradio in /usr/local/lib/python3.10/dist-packages (4.31.0)\n",
            "Requirement already satisfied: aiofiles<24.0,>=22.0 in /usr/local/lib/python3.10/dist-packages (from gradio) (23.2.1)\n",
            "Requirement already satisfied: altair<6.0,>=4.2.0 in /usr/local/lib/python3.10/dist-packages (from gradio) (4.2.2)\n",
            "Requirement already satisfied: fastapi in /usr/local/lib/python3.10/dist-packages (from gradio) (0.111.0)\n",
            "Requirement already satisfied: ffmpy in /usr/local/lib/python3.10/dist-packages (from gradio) (0.3.2)\n",
            "Requirement already satisfied: gradio-client==0.16.2 in /usr/local/lib/python3.10/dist-packages (from gradio) (0.16.2)\n",
            "Requirement already satisfied: httpx>=0.24.1 in /usr/local/lib/python3.10/dist-packages (from gradio) (0.27.0)\n",
            "Requirement already satisfied: huggingface-hub>=0.19.3 in /usr/local/lib/python3.10/dist-packages (from gradio) (0.20.3)\n",
            "Requirement already satisfied: importlib-resources<7.0,>=1.3 in /usr/local/lib/python3.10/dist-packages (from gradio) (6.4.0)\n",
            "Requirement already satisfied: jinja2<4.0 in /usr/local/lib/python3.10/dist-packages (from gradio) (3.1.4)\n",
            "Requirement already satisfied: markupsafe~=2.0 in /usr/local/lib/python3.10/dist-packages (from gradio) (2.1.5)\n",
            "Requirement already satisfied: matplotlib~=3.0 in /usr/local/lib/python3.10/dist-packages (from gradio) (3.7.1)\n",
            "Requirement already satisfied: numpy~=1.0 in /usr/local/lib/python3.10/dist-packages (from gradio) (1.25.2)\n",
            "Requirement already satisfied: orjson~=3.0 in /usr/local/lib/python3.10/dist-packages (from gradio) (3.10.3)\n",
            "Requirement already satisfied: packaging in /usr/local/lib/python3.10/dist-packages (from gradio) (24.0)\n",
            "Requirement already satisfied: pandas<3.0,>=1.0 in /usr/local/lib/python3.10/dist-packages (from gradio) (2.0.3)\n",
            "Requirement already satisfied: pillow<11.0,>=8.0 in /usr/local/lib/python3.10/dist-packages (from gradio) (9.4.0)\n",
            "Requirement already satisfied: pydantic>=2.0 in /usr/local/lib/python3.10/dist-packages (from gradio) (2.7.1)\n",
            "Requirement already satisfied: pydub in /usr/local/lib/python3.10/dist-packages (from gradio) (0.25.1)\n",
            "Requirement already satisfied: python-multipart>=0.0.9 in /usr/local/lib/python3.10/dist-packages (from gradio) (0.0.9)\n",
            "Requirement already satisfied: pyyaml<7.0,>=5.0 in /usr/local/lib/python3.10/dist-packages (from gradio) (6.0.1)\n",
            "Requirement already satisfied: ruff>=0.2.2 in /usr/local/lib/python3.10/dist-packages (from gradio) (0.4.4)\n",
            "Requirement already satisfied: semantic-version~=2.0 in /usr/local/lib/python3.10/dist-packages (from gradio) (2.10.0)\n",
            "Requirement already satisfied: tomlkit==0.12.0 in /usr/local/lib/python3.10/dist-packages (from gradio) (0.12.0)\n",
            "Requirement already satisfied: typer<1.0,>=0.12 in /usr/local/lib/python3.10/dist-packages (from gradio) (0.12.3)\n",
            "Requirement already satisfied: typing-extensions~=4.0 in /usr/local/lib/python3.10/dist-packages (from gradio) (4.11.0)\n",
            "Requirement already satisfied: urllib3~=2.0 in /usr/local/lib/python3.10/dist-packages (from gradio) (2.0.7)\n",
            "Requirement already satisfied: uvicorn>=0.14.0 in /usr/local/lib/python3.10/dist-packages (from gradio) (0.29.0)\n",
            "Requirement already satisfied: fsspec in /usr/local/lib/python3.10/dist-packages (from gradio-client==0.16.2->gradio) (2023.6.0)\n",
            "Requirement already satisfied: websockets<12.0,>=10.0 in /usr/local/lib/python3.10/dist-packages (from gradio-client==0.16.2->gradio) (11.0.3)\n",
            "Requirement already satisfied: entrypoints in /usr/local/lib/python3.10/dist-packages (from altair<6.0,>=4.2.0->gradio) (0.4)\n",
            "Requirement already satisfied: jsonschema>=3.0 in /usr/local/lib/python3.10/dist-packages (from altair<6.0,>=4.2.0->gradio) (4.19.2)\n",
            "Requirement already satisfied: toolz in /usr/local/lib/python3.10/dist-packages (from altair<6.0,>=4.2.0->gradio) (0.12.1)\n",
            "Requirement already satisfied: anyio in /usr/local/lib/python3.10/dist-packages (from httpx>=0.24.1->gradio) (3.7.1)\n",
            "Requirement already satisfied: certifi in /usr/local/lib/python3.10/dist-packages (from httpx>=0.24.1->gradio) (2024.2.2)\n",
            "Requirement already satisfied: httpcore==1.* in /usr/local/lib/python3.10/dist-packages (from httpx>=0.24.1->gradio) (1.0.5)\n",
            "Requirement already satisfied: idna in /usr/local/lib/python3.10/dist-packages (from httpx>=0.24.1->gradio) (3.7)\n",
            "Requirement already satisfied: sniffio in /usr/local/lib/python3.10/dist-packages (from httpx>=0.24.1->gradio) (1.3.1)\n",
            "Requirement already satisfied: h11<0.15,>=0.13 in /usr/local/lib/python3.10/dist-packages (from httpcore==1.*->httpx>=0.24.1->gradio) (0.14.0)\n",
            "Requirement already satisfied: filelock in /usr/local/lib/python3.10/dist-packages (from huggingface-hub>=0.19.3->gradio) (3.14.0)\n",
            "Requirement already satisfied: requests in /usr/local/lib/python3.10/dist-packages (from huggingface-hub>=0.19.3->gradio) (2.31.0)\n",
            "Requirement already satisfied: tqdm>=4.42.1 in /usr/local/lib/python3.10/dist-packages (from huggingface-hub>=0.19.3->gradio) (4.66.4)\n",
            "Requirement already satisfied: contourpy>=1.0.1 in /usr/local/lib/python3.10/dist-packages (from matplotlib~=3.0->gradio) (1.2.1)\n",
            "Requirement already satisfied: cycler>=0.10 in /usr/local/lib/python3.10/dist-packages (from matplotlib~=3.0->gradio) (0.12.1)\n",
            "Requirement already satisfied: fonttools>=4.22.0 in /usr/local/lib/python3.10/dist-packages (from matplotlib~=3.0->gradio) (4.51.0)\n",
            "Requirement already satisfied: kiwisolver>=1.0.1 in /usr/local/lib/python3.10/dist-packages (from matplotlib~=3.0->gradio) (1.4.5)\n",
            "Requirement already satisfied: pyparsing>=2.3.1 in /usr/local/lib/python3.10/dist-packages (from matplotlib~=3.0->gradio) (3.1.2)\n",
            "Requirement already satisfied: python-dateutil>=2.7 in /usr/local/lib/python3.10/dist-packages (from matplotlib~=3.0->gradio) (2.8.2)\n",
            "Requirement already satisfied: pytz>=2020.1 in /usr/local/lib/python3.10/dist-packages (from pandas<3.0,>=1.0->gradio) (2023.4)\n",
            "Requirement already satisfied: tzdata>=2022.1 in /usr/local/lib/python3.10/dist-packages (from pandas<3.0,>=1.0->gradio) (2024.1)\n",
            "Requirement already satisfied: annotated-types>=0.4.0 in /usr/local/lib/python3.10/dist-packages (from pydantic>=2.0->gradio) (0.6.0)\n",
            "Requirement already satisfied: pydantic-core==2.18.2 in /usr/local/lib/python3.10/dist-packages (from pydantic>=2.0->gradio) (2.18.2)\n",
            "Requirement already satisfied: click>=8.0.0 in /usr/local/lib/python3.10/dist-packages (from typer<1.0,>=0.12->gradio) (8.1.7)\n",
            "Requirement already satisfied: shellingham>=1.3.0 in /usr/local/lib/python3.10/dist-packages (from typer<1.0,>=0.12->gradio) (1.5.4)\n",
            "Requirement already satisfied: rich>=10.11.0 in /usr/local/lib/python3.10/dist-packages (from typer<1.0,>=0.12->gradio) (13.7.1)\n",
            "Requirement already satisfied: starlette<0.38.0,>=0.37.2 in /usr/local/lib/python3.10/dist-packages (from fastapi->gradio) (0.37.2)\n",
            "Requirement already satisfied: fastapi-cli>=0.0.2 in /usr/local/lib/python3.10/dist-packages (from fastapi->gradio) (0.0.3)\n",
            "Requirement already satisfied: ujson!=4.0.2,!=4.1.0,!=4.2.0,!=4.3.0,!=5.0.0,!=5.1.0,>=4.0.1 in /usr/local/lib/python3.10/dist-packages (from fastapi->gradio) (5.9.0)\n",
            "Requirement already satisfied: email_validator>=2.0.0 in /usr/local/lib/python3.10/dist-packages (from fastapi->gradio) (2.1.1)\n",
            "Requirement already satisfied: dnspython>=2.0.0 in /usr/local/lib/python3.10/dist-packages (from email_validator>=2.0.0->fastapi->gradio) (2.6.1)\n",
            "Requirement already satisfied: attrs>=22.2.0 in /usr/local/lib/python3.10/dist-packages (from jsonschema>=3.0->altair<6.0,>=4.2.0->gradio) (23.2.0)\n",
            "Requirement already satisfied: jsonschema-specifications>=2023.03.6 in /usr/local/lib/python3.10/dist-packages (from jsonschema>=3.0->altair<6.0,>=4.2.0->gradio) (2023.12.1)\n",
            "Requirement already satisfied: referencing>=0.28.4 in /usr/local/lib/python3.10/dist-packages (from jsonschema>=3.0->altair<6.0,>=4.2.0->gradio) (0.35.1)\n",
            "Requirement already satisfied: rpds-py>=0.7.1 in /usr/local/lib/python3.10/dist-packages (from jsonschema>=3.0->altair<6.0,>=4.2.0->gradio) (0.18.1)\n",
            "Requirement already satisfied: six>=1.5 in /usr/local/lib/python3.10/dist-packages (from python-dateutil>=2.7->matplotlib~=3.0->gradio) (1.16.0)\n",
            "Requirement already satisfied: markdown-it-py>=2.2.0 in /usr/local/lib/python3.10/dist-packages (from rich>=10.11.0->typer<1.0,>=0.12->gradio) (3.0.0)\n",
            "Requirement already satisfied: pygments<3.0.0,>=2.13.0 in /usr/local/lib/python3.10/dist-packages (from rich>=10.11.0->typer<1.0,>=0.12->gradio) (2.16.1)\n",
            "Requirement already satisfied: exceptiongroup in /usr/local/lib/python3.10/dist-packages (from anyio->httpx>=0.24.1->gradio) (1.2.1)\n",
            "Requirement already satisfied: httptools>=0.5.0 in /usr/local/lib/python3.10/dist-packages (from uvicorn>=0.14.0->gradio) (0.6.1)\n",
            "Requirement already satisfied: python-dotenv>=0.13 in /usr/local/lib/python3.10/dist-packages (from uvicorn>=0.14.0->gradio) (1.0.1)\n",
            "Requirement already satisfied: uvloop!=0.15.0,!=0.15.1,>=0.14.0 in /usr/local/lib/python3.10/dist-packages (from uvicorn>=0.14.0->gradio) (0.19.0)\n",
            "Requirement already satisfied: watchfiles>=0.13 in /usr/local/lib/python3.10/dist-packages (from uvicorn>=0.14.0->gradio) (0.21.0)\n",
            "Requirement already satisfied: charset-normalizer<4,>=2 in /usr/local/lib/python3.10/dist-packages (from requests->huggingface-hub>=0.19.3->gradio) (3.3.2)\n",
            "Requirement already satisfied: mdurl~=0.1 in /usr/local/lib/python3.10/dist-packages (from markdown-it-py>=2.2.0->rich>=10.11.0->typer<1.0,>=0.12->gradio) (0.1.2)\n"
          ]
        }
      ],
      "source": [
        "# Instala os SDKs necessários:\n",
        "!pip install -q -U google-generativeai\n",
        "!pip install gradio"
      ]
    },
    {
      "cell_type": "code",
      "source": [
        "# Importa as bibliotecas necessárias:\n",
        "import google.generativeai as genai  # Biblioteca do Google para modelos de linguagem\n",
        "import gradio as gr  # Biblioteca para criar interfaces web interativas\n",
        "from google.colab import userdata # Biblioteca para acessar dados do usuário no Colab\n",
        "\n",
        "# Configura a chave da API do Google:\n",
        "GOOGLE_API_KEY= userdata.get('SECRET_API_GEMINI')\n",
        "genai.configure(api_key=GOOGLE_API_KEY)\n",
        "\n",
        "# Listando os modelos disponíveis\n",
        "# for m in genai.list_models():\n",
        "#   if 'generateContent' in m.supported_generation_methods:\n",
        "#     print(m.name)"
      ],
      "metadata": {
        "id": "1DCdCerD3zqM"
      },
      "execution_count": 2,
      "outputs": []
    },
    {
      "cell_type": "code",
      "source": [
        "# Define o modelo de linguagem a ser usado (Gemini Pro):\n",
        "generation_config = {\n",
        "  \"candidate_count\": 1,\n",
        "  \"temperature\": 0.5,\n",
        "}\n",
        "safety_settings={\n",
        "    'HATE': 'BLOCK_NONE',\n",
        "    'HARASSMENT': 'BLOCK_NONE',\n",
        "    'SEXUAL' : 'BLOCK_NONE',\n",
        "    'DANGEROUS' : 'BLOCK_NONE'\n",
        "}\n",
        "model = genai.GenerativeModel(model_name='gemini-1.0-pro',\n",
        "                                  generation_config=generation_config,\n",
        "                                  safety_settings=safety_settings,)"
      ],
      "metadata": {
        "id": "m0x71VEO8CA0"
      },
      "execution_count": 3,
      "outputs": []
    },
    {
      "cell_type": "code",
      "source": [
        "# Usa o modelo de linguagem para gerar texto explicando como cultivar a planta em um vaso:\n",
        "response = model.generate_content(f\"Explain in detail how to cultivate Alface in a pot.\")\n",
        "# Retorna o texto gerado:\n",
        "print(response)"
      ],
      "metadata": {
        "colab": {
          "base_uri": "https://localhost:8080/",
          "height": 141
        },
        "id": "q1c1nCSjOe3X",
        "outputId": "7d179285-65b2-4891-c2de-d82cc19b19a4"
      },
      "execution_count": 4,
      "outputs": [
        {
          "output_type": "stream",
          "name": "stdout",
          "text": [
            "response:\n",
            "GenerateContentResponse(\n",
            "    done=True,\n",
            "    iterator=None,\n",
            "    result=glm.GenerateContentResponse({'candidates': [{'content': {'parts': [{'text': \"**Materials:**\\n\\n* Pot with drainage holes (at least 12 inches in diameter)\\n* Potting mix specifically designed for vegetables\\n* Lettuce seeds or seedlings\\n* Watering can or hose\\n* Liquid fertilizer (optional)\\n\\n**Steps:**\\n\\n**1. Choose a Suitable Pot:**\\n\\n* Select a pot that is at least 12 inches in diameter and has drainage holes.\\n* The pot should be deep enough to accommodate the lettuce roots, which can grow up to 6 inches long.\\n* Terracotta or plastic pots are both suitable options.\\n\\n**2. Prepare the Potting Mix:**\\n\\n* Fill the pot with a high-quality potting mix specifically designed for vegetables.\\n* The potting mix should be well-draining and rich in organic matter.\\n* Amend the potting mix with compost or manure to improve soil fertility.\\n\\n**3. Plant the Lettuce:**\\n\\n* **Seeds:** Sow lettuce seeds 1/4 inch deep and 2-3 inches apart. Cover the seeds with a thin layer of potting mix and gently tamp down.\\n* **Seedlings:** Dig a hole in the potting mix deep enough to accommodate the root ball of the seedling. Place the seedling in the hole and fill in around it, firming the soil gently.\\n\\n**4. Water Regularly:**\\n\\n* Water the lettuce plants deeply and regularly, especially during hot weather.\\n* Allow the top inch of soil to dry out before watering again.\\n* Avoid overwatering, as this can lead to root rot.\\n\\n**5. Fertilize (Optional):**\\n\\n* To promote healthy growth, fertilize the lettuce plants every 2-3 weeks with a balanced liquid fertilizer.\\n* Follow the instructions on the fertilizer label regarding application rates.\\n\\n**6. Provide Sunlight:**\\n\\n* Lettuce plants require full sun to partial shade (at least 6 hours of direct sunlight per day).\\n* If possible, place the pot in a location that receives ample sunlight.\\n\\n**7. Protect from Pests and Diseases:**\\n\\n* Inspect the lettuce plants regularly for pests and diseases.\\n* Treat any infestations or infections promptly with appropriate organic or chemical remedies.\\n* Avoid overcrowding the plants to prevent disease spread.\\n\\n**8. Harvest:**\\n\\n* Lettuce is typically ready to harvest within 6-8 weeks after planting.\\n* Harvest the leaves by cutting them off at the base of the plant.\\n* Outer leaves can be harvested first, allowing the inner leaves to continue growing.\\n\\n**Tips:**\\n\\n* Choose lettuce varieties that are suitable for container gardening, such as 'Little Gem' or 'Salad Bowl'.\\n* Water the plants deeply at the base, avoiding the leaves.\\n* Mulch around the plants to retain moisture and suppress weeds.\\n* Rotate the pot regularly to ensure even sunlight exposure.\\n* If the leaves start to turn yellow, it may indicate a nutrient deficiency. Fertilize the plants accordingly.\"}], 'role': 'model'}, 'finish_reason': 1, 'index': 0, 'safety_ratings': [{'category': 9, 'probability': 1, 'blocked': False}, {'category': 8, 'probability': 1, 'blocked': False}, {'category': 7, 'probability': 1, 'blocked': False}, {'category': 10, 'probability': 1, 'blocked': False}], 'token_count': 0, 'grounding_attributions': []}]}),\n",
            ")\n"
          ]
        }
      ]
    },
    {
      "cell_type": "code",
      "source": [
        "# Define uma função para obter informações sobre o cultivo de uma planta:\n",
        "def getInfoCultivo(plant_type):\n",
        "    # Usa o modelo de linguagem para gerar texto explicando como cultivar a planta em um vaso:\n",
        "    response = model.generate_content(f\"explique detalhadamente como cultivar {plant_type} em um vaso, indicando qual o tamanho ideal do vaso e o tempo de colheita.\")\n",
        "    # Retorna o texto gerado:\n",
        "    return response.text\n",
        "\n",
        "# Define estilos CSS para a interface web:\n",
        "style = \"\"\"\n",
        "  .gradio-container {\n",
        "      background-color: #ccff99;\n",
        "      color: blue;\n",
        "  }\n",
        "  .folhas-section {\n",
        "      background-color: #bfff80;\n",
        "  }\n",
        "  .raizes-section {\n",
        "      background-color: #ecd9c6;\n",
        "  }\n",
        "  .frutos-section {\n",
        "      background-color: #ffffb3;\n",
        "  }\n",
        "  .vagens-section {\n",
        "      background-color: #b3ffb3;\n",
        "  }\n",
        "  .ervas-section {\n",
        "      background-color: #e0e0d1;\n",
        "  }\n",
        "  .frutas-section {\n",
        "      background-color: #ffad99;\n",
        "  }\n",
        "\"\"\"\n",
        "\n",
        "# Define listas de plantas para cada categoria:\n",
        "folhas=['Alface', 'Rúcula', 'Espinafre', 'Couve', 'Acelga', 'Agrião']\n",
        "raizes=['Cenoura', 'Rabanete', 'Beterraba']\n",
        "frutos=['Tomate cereja', 'Pimentão', 'Pimenta', 'Berinjela']\n",
        "vagens=['Ervilha', 'Feijão-vagem']\n",
        "ervas=['Manjericão', 'salsinha', 'cebolinha', 'coentro', 'hortelã', 'orégano', 'alecrim', 'tomilho']\n",
        "frutas=['Jaboticaba','Laraja anã', 'Limão anã', 'Morango', 'Tanegrina anã']\n",
        "\n",
        "# Cria a interface web usando Gradio:\n",
        "with gr.Blocks(css=style) as interface:# Add background image\n",
        "    # Adiciona um título:\n",
        "    gr.Markdown(\"# Horta em Casa: Um Guia para Cultivo em Vasos\")\n",
        "\n",
        "    # Adiciona uma breve descrição:\n",
        "    gr.Markdown(\"## Descubra como cultivar seus próprios alimentos frescos e saudáveis em casa, mesmo com espaço limitado!\")\n",
        "\n",
        "    # Cria uma linha com duas colunas:\n",
        "    with gr.Row():\n",
        "        # Cria a coluna da esquerda para as categorias de plantas:\n",
        "        with gr.Column(scale=1, min_width=300):\n",
        "             # Cria um Accordion para as categorias de plantas:\n",
        "            with gr.Accordion(\"Horta em Vasos\", open=True):\n",
        "                # Cria abas para cada categoria de planta:\n",
        "                with gr.TabItem(\"Folhas\",elem_classes='folhas-section'):\n",
        "                    # Cria um botão de rádio para escolher uma folha:\n",
        "                    radio_folhas = gr.Radio(folhas, label=\"Escolha uma folha:\",elem_classes='folhas-section')\n",
        "                with gr.TabItem(\"Raízes\", elem_classes='raizes-section'):\n",
        "                    radio_raizes = gr.Radio(raizes, label=\"Escolha uma raiz:\", elem_classes='raizes-section')\n",
        "                with gr.TabItem(\"Frutos\", elem_classes='frutos-section'):\n",
        "                    radio_frutos = gr.Radio(frutos, label=\"Escolha um fruto:\", elem_classes='frutos-section')\n",
        "                with gr.TabItem(\"Vagens\", elem_classes='frutos-section'):\n",
        "                    radio_vagens = gr.Radio(vagens, label=\"Escolha uma Vage:\", elem_classes='vagens-section')\n",
        "                with gr.TabItem(\"Ervas\", elem_classes='Ervas-section'):\n",
        "                    radio_ervas = gr.Radio(ervas, label=\"Escolha uma erva:\", elem_classes='ervas-section')\n",
        "                with gr.TabItem(\"Frutas\", elem_classes='frutas-section'):\n",
        "                    radio_frutas = gr.Radio(frutas, label=\"Escolha uma erva:\", elem_classes='frutas-section')\n",
        "\n",
        "    # Cria uma caixa de texto para exibir as informações de cultivo:\n",
        "    cultivation_info = gr.Textbox(label=\"Forma de Cultivo\", lines=5)\n",
        "\n",
        "    # Conecta os botões de rádio à função getInfoCultivo:\n",
        "    radio_folhas.change(getInfoCultivo, inputs=radio_folhas, outputs=cultivation_info)\n",
        "    radio_raizes.change(getInfoCultivo, inputs=radio_raizes, outputs=cultivation_info)\n",
        "    radio_frutos.change(getInfoCultivo, inputs=radio_frutos, outputs=cultivation_info)\n",
        "    radio_vagens.change(getInfoCultivo, inputs=radio_vagens, outputs=cultivation_info)\n",
        "    radio_ervas.change(getInfoCultivo, inputs=radio_ervas, outputs=cultivation_info)\n",
        "    radio_frutas.change(getInfoCultivo, inputs=radio_frutas, outputs=cultivation_info)\n",
        "\n",
        "# Inicia a interface web:\n",
        "interface.launch(debug=True)\n",
        "#interface.launch()"
      ],
      "metadata": {
        "colab": {
          "base_uri": "https://localhost:8080/",
          "height": 660
        },
        "id": "-G1DA4if9l2J",
        "outputId": "b2e14232-c6d7-4ecf-febf-283e3dc8f8ae"
      },
      "execution_count": 7,
      "outputs": [
        {
          "output_type": "stream",
          "name": "stdout",
          "text": [
            "Setting queue=True in a Colab notebook requires sharing enabled. Setting `share=True` (you can turn this off by setting `share=False` in `launch()` explicitly).\n",
            "\n",
            "Colab notebook detected. This cell will run indefinitely so that you can see errors and logs. To turn off, set debug=False in launch().\n",
            "Running on public URL: https://6bd426176da29e5074.gradio.live\n",
            "\n",
            "This share link expires in 72 hours. For free permanent hosting and GPU upgrades, run `gradio deploy` from Terminal to deploy to Spaces (https://huggingface.co/spaces)\n"
          ]
        },
        {
          "output_type": "display_data",
          "data": {
            "text/plain": [
              "<IPython.core.display.HTML object>"
            ],
            "text/html": [
              "<div><iframe src=\"https://6bd426176da29e5074.gradio.live\" width=\"100%\" height=\"500\" allow=\"autoplay; camera; microphone; clipboard-read; clipboard-write;\" frameborder=\"0\" allowfullscreen></iframe></div>"
            ]
          },
          "metadata": {}
        },
        {
          "output_type": "stream",
          "name": "stdout",
          "text": [
            "Keyboard interruption in main thread... closing server.\n",
            "Killing tunnel 127.0.0.1:7860 <> https://6bd426176da29e5074.gradio.live\n"
          ]
        },
        {
          "output_type": "execute_result",
          "data": {
            "text/plain": []
          },
          "metadata": {},
          "execution_count": 7
        }
      ]
    }
  ]
}