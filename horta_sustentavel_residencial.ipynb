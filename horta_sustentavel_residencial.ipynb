{
  "nbformat": 4,
  "nbformat_minor": 0,
  "metadata": {
    "colab": {
      "provenance": [],
      "authorship_tag": "ABX9TyPlhhgzSbtToI3jf9VKVppF",
      "include_colab_link": true
    },
    "kernelspec": {
      "name": "python3",
      "display_name": "Python 3"
    },
    "language_info": {
      "name": "python"
    }
  },
  "cells": [
    {
      "cell_type": "markdown",
      "metadata": {
        "id": "view-in-github",
        "colab_type": "text"
      },
      "source": [
        "<a href=\"https://colab.research.google.com/github/ffsf-filho/horta_sustentavel_residencial/blob/main/horta_sustentavel_residencial.ipynb\" target=\"_parent\"><img src=\"https://colab.research.google.com/assets/colab-badge.svg\" alt=\"Open In Colab\"/></a>"
      ]
    },
    {
      "cell_type": "code",
      "execution_count": null,
      "metadata": {
        "id": "vCYR-ybk3U5S"
      },
      "outputs": [],
      "source": [
        "# Instala os SDKs necessários:\n",
        "!pip install -q -U google-generativeai\n",
        "!pip install gradio"
      ]
    },
    {
      "cell_type": "code",
      "source": [
        "# Importa as bibliotecas necessárias:\n",
        "import google.generativeai as genai  # Biblioteca do Google para modelos de linguagem\n",
        "import gradio as gr  # Biblioteca para criar interfaces web interativas\n",
        "from google.colab import userdata # Biblioteca para acessar dados do usuário no Colab\n",
        "\n",
        "# Configura a chave da API do Google:\n",
        "GOOGLE_API_KEY= userdata.get('SECRET_API_GEMINI')\n",
        "genai.configure(api_key=GOOGLE_API_KEY)"
      ],
      "metadata": {
        "id": "1DCdCerD3zqM"
      },
      "execution_count": 2,
      "outputs": []
    },
    {
      "cell_type": "code",
      "source": [
        "# Define oos parametros de configuração do modelo:\n",
        "generation_config = {\n",
        "  \"candidate_count\": 1,\n",
        "  \"temperature\": 0.5,\n",
        "}\n",
        "\n",
        "safety_settings={\n",
        "    'HATE': 'BLOCK_NONE',\n",
        "    'HARASSMENT': 'BLOCK_NONE',\n",
        "    'SEXUAL' : 'BLOCK_NONE',\n",
        "    'DANGEROUS' : 'BLOCK_NONE'\n",
        "}"
      ],
      "metadata": {
        "id": "kOmjAKjjsYzD"
      },
      "execution_count": 3,
      "outputs": []
    },
    {
      "cell_type": "code",
      "source": [
        "# Define o modelo de linguagem a ser usado (Gemini Pro):\n",
        "model = genai.GenerativeModel(model_name='gemini-1.0-pro',\n",
        "                                  generation_config=generation_config,\n",
        "                                  safety_settings=safety_settings,)"
      ],
      "metadata": {
        "id": "nncHp5xVsci7"
      },
      "execution_count": 4,
      "outputs": []
    },
    {
      "cell_type": "code",
      "source": [
        "# Define uma função para obter informações sobre o cultivo de uma planta:\n",
        "def getInfoCultivo(plant_type):\n",
        "    # Usa o modelo de linguagem para gerar texto explicando como cultivar a planta em um vaso:\n",
        "    response = model.generate_content(f\"explique detalhadamente como cultivar {plant_type} em um vaso, indicando qual o tamanho ideal do vaso e o tempo de colheita.\")\n",
        "    # Retorna o texto gerado:\n",
        "    return response.text\n",
        "\n",
        "# Define estilos CSS para a interface web:\n",
        "style = \"\"\"\n",
        "  .gradio-container {\n",
        "      background-color: #ccff99;\n",
        "      color: blue;\n",
        "  }\n",
        "  .folhas-section {\n",
        "      background-color: #bfff80;\n",
        "  }\n",
        "  .raizes-section {\n",
        "      background-color: #ecd9c6;\n",
        "  }\n",
        "  .frutos-section {\n",
        "      background-color: #ffffb3;\n",
        "  }\n",
        "  .vagens-section {\n",
        "      background-color: #b3ffb3;\n",
        "  }\n",
        "  .ervas-section {\n",
        "      background-color: #e0e0d1;\n",
        "  }\n",
        "  .frutas-section {\n",
        "      background-color: #ffad99;\n",
        "  }\n",
        "\"\"\"\n",
        "\n",
        "# Define listas de plantas para cada categoria:\n",
        "folhas=['Alface', 'Rúcula', 'Espinafre', 'Couve', 'Acelga', 'Agrião']\n",
        "raizes=['Cenoura', 'Rabanete', 'Beterraba']\n",
        "frutos=['Tomate cereja', 'Pimentão', 'Pimenta', 'Berinjela']\n",
        "vagens=['Ervilha', 'Feijão-vagem']\n",
        "ervas=['Manjericão', 'salsinha', 'cebolinha', 'coentro', 'hortelã', 'orégano', 'alecrim', 'tomilho']\n",
        "frutas=['Jaboticaba','Laraja anã', 'Limão anã', 'Morango', 'Tanegrina anã']\n",
        "\n",
        "# Cria a interface web usando Gradio:\n",
        "with gr.Blocks(css=style) as interface:# Add background image\n",
        "    # Adiciona um título:\n",
        "    gr.Markdown(\"# Horta em Casa: Um Guia para Cultivo em Vasos\")\n",
        "\n",
        "    # Adiciona uma breve descrição:\n",
        "    gr.Markdown(\"## Descubra como cultivar seus próprios alimentos frescos e saudáveis em casa, mesmo com espaço limitado!\")\n",
        "\n",
        "    # Cria uma linha com duas colunas:\n",
        "    with gr.Row():\n",
        "        # Cria a coluna da esquerda para as categorias de plantas:\n",
        "        with gr.Column(scale=1, min_width=300):\n",
        "             # Cria um Accordion para as categorias de plantas:\n",
        "            with gr.Accordion(\"Horta em Vasos\", open=True):\n",
        "                # Cria abas para cada categoria de planta:\n",
        "                with gr.TabItem(\"Folhas\",elem_classes='folhas-section'):\n",
        "                    # Cria um botão de rádio para escolher uma folha:\n",
        "                    radio_folhas = gr.Radio(folhas, label=\"Escolha uma folha:\",elem_classes='folhas-section')\n",
        "                with gr.TabItem(\"Raízes\", elem_classes='raizes-section'):\n",
        "                    radio_raizes = gr.Radio(raizes, label=\"Escolha uma raiz:\", elem_classes='raizes-section')\n",
        "                with gr.TabItem(\"Frutos\", elem_classes='frutos-section'):\n",
        "                    radio_frutos = gr.Radio(frutos, label=\"Escolha um fruto:\", elem_classes='frutos-section')\n",
        "                with gr.TabItem(\"Vagens\", elem_classes='frutos-section'):\n",
        "                    radio_vagens = gr.Radio(vagens, label=\"Escolha uma Vage:\", elem_classes='vagens-section')\n",
        "                with gr.TabItem(\"Ervas\", elem_classes='Ervas-section'):\n",
        "                    radio_ervas = gr.Radio(ervas, label=\"Escolha uma erva:\", elem_classes='ervas-section')\n",
        "                with gr.TabItem(\"Frutas\", elem_classes='frutas-section'):\n",
        "                    radio_frutas = gr.Radio(frutas, label=\"Escolha uma erva:\", elem_classes='frutas-section')\n",
        "\n",
        "    # Cria uma caixa de texto para exibir as informações de cultivo:\n",
        "    cultivation_info = gr.Textbox(label=\"Forma de Cultivo\", lines=5)\n",
        "\n",
        "    # Conecta os botões de rádio à função getInfoCultivo:\n",
        "    radio_folhas.change(getInfoCultivo, inputs=radio_folhas, outputs=cultivation_info)\n",
        "    radio_raizes.change(getInfoCultivo, inputs=radio_raizes, outputs=cultivation_info)\n",
        "    radio_frutos.change(getInfoCultivo, inputs=radio_frutos, outputs=cultivation_info)\n",
        "    radio_vagens.change(getInfoCultivo, inputs=radio_vagens, outputs=cultivation_info)\n",
        "    radio_ervas.change(getInfoCultivo, inputs=radio_ervas, outputs=cultivation_info)\n",
        "    radio_frutas.change(getInfoCultivo, inputs=radio_frutas, outputs=cultivation_info)\n",
        "\n",
        "# Inicia a interface web:\n",
        "interface.launch(debug='true')"
      ],
      "metadata": {
        "id": "-G1DA4if9l2J",
        "collapsed": true
      },
      "execution_count": null,
      "outputs": []
    }
  ]
}